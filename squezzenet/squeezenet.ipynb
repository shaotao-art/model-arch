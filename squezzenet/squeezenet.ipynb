{
 "cells": [
  {
   "cell_type": "code",
   "execution_count": null,
   "metadata": {},
   "outputs": [],
   "source": [
    "import torch\n",
    "import torch.nn as nn"
   ]
  },
  {
   "cell_type": "code",
   "execution_count": null,
   "metadata": {},
   "outputs": [],
   "source": [
    "class ConvBlock(nn.Module):\n",
    "    def __init__(self, in_channel, out_channel, k_s, s, p):\n",
    "        super(ConvBlock, self).__init__()\n",
    "        self.conv = nn.Conv2d(in_channel, out_channel, k_s, s, p)\n",
    "        self.relu = nn.ReLU(inplace=True)\n",
    "    def forward(self, x):\n",
    "        return self.relu(self.conv(x))\n",
    "\n",
    "class FireBlock(nn.Module):\n",
    "    def __init__(self, in_channel, s1_1, e1_1, e3_3):\n",
    "        super(FireBlock, self).__init__()\n",
    "        self.squeeze1_1 = ConvBlock(in_channel, s1_1, (1,1), 1, (0,0))\n",
    "        self.expand1_1 = ConvBlock(s1_1, e1_1, (1,1), 1, (0,0))\n",
    "        self.expand3_3 = ConvBlock(s1_1, e3_3, (3,3), 1, (1,1)) \n",
    "\n",
    "\n",
    "    def forward(self, x):\n",
    "        x = self.squeeze1_1(x)\n",
    "        expa_1 = self.expand1_1(x)\n",
    "        expa_3 = self.expand3_3(x)\n",
    "        return torch.cat((expa_1, expa_3), dim=1)\n",
    "\n",
    "test_block = FireBlock(96, 16, 64, 64)\n",
    "x = torch.randn(8, 96, 55, 55)\n",
    "print(test_block(x).shape)"
   ]
  },
  {
   "cell_type": "code",
   "execution_count": null,
   "metadata": {},
   "outputs": [],
   "source": [
    "class SqueezeNet(nn.Module):\n",
    "    def __init__(self, img_channel=3):\n",
    "        super(SqueezeNet, self).__init__()\n",
    "        self.conv1 = ConvBlock(img_channel, 96, (7,7), 2, (2,2))\n",
    "        self.maxpool1 = nn.MaxPool2d((3,3), 2)\n",
    "        self.fire2 = FireBlock(96, 16, 64, 64)\n",
    "        self.fire3 = FireBlock(128, 16, 64, 64)\n",
    "        self.fire4 = FireBlock(128, 32, 128, 128)\n",
    "        self.maxpool4 = nn.MaxPool2d((3,3), 2)        \n",
    "        self.fire5 = FireBlock(256, 32, 128, 128)\n",
    "        self.fire6 = FireBlock(256, 48, 192, 192)\n",
    "        self.fire7 = FireBlock(384, 48, 192, 192)\n",
    "        self.fire8 = FireBlock(384, 64, 256, 256)\n",
    "        self.maxpool8 = nn.MaxPool2d((3,3), 2)        \n",
    "        self.fire9 = FireBlock(512, 64, 256, 256)\n",
    "        self.conv10 = ConvBlock(512, 1000, (1,1), 1, (0,0))\n",
    "        self.avgpool10 = nn.AvgPool2d((13,13), 1)\n",
    "    def forward(self, x):\n",
    "        x = self.maxpool1(self.conv1(x))\n",
    "        x = self.maxpool4(self.fire4(self.fire3(self.fire2(x))))\n",
    "        x = self.maxpool8(self.fire8(self.fire7(self.fire6(self.fire5(x)))))\n",
    "        x = self.avgpool10(self.conv10(self.fire9(x)))\n",
    "        return x\n",
    "\n",
    "model = SqueezeNet()\n",
    "x = torch.randn(8, 3, 224, 224)\n",
    "print(model(x).shape)\n",
    "        "
   ]
  }
 ],
 "metadata": {
  "kernelspec": {
   "display_name": "Python 3.9.12 ('dl')",
   "language": "python",
   "name": "python3"
  },
  "language_info": {
   "codemirror_mode": {
    "name": "ipython",
    "version": 3
   },
   "file_extension": ".py",
   "mimetype": "text/x-python",
   "name": "python",
   "nbconvert_exporter": "python",
   "pygments_lexer": "ipython3",
   "version": "3.9.12"
  },
  "orig_nbformat": 4,
  "vscode": {
   "interpreter": {
    "hash": "b29e1734725db1faeb4b8d5e1c0f2aeef17f9af1ed7138203a137e006bcde4ae"
   }
  }
 },
 "nbformat": 4,
 "nbformat_minor": 2
}
