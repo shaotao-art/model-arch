{
  "cells": [
    {
      "cell_type": "code",
      "execution_count": null,
      "metadata": {
        "id": "gSIWoLcmbZ71"
      },
      "outputs": [],
      "source": [
        "import torch\n",
        "from torch import nn"
      ]
    },
    {
      "cell_type": "markdown",
      "metadata": {
        "collapsed": false,
        "id": "P_RD-jhibZ75"
      },
      "source": [
        "<img src=\"./vgg.png\" height = 720>"
      ]
    },
    {
      "cell_type": "code",
      "execution_count": null,
      "metadata": {
        "id": "jwOSpV1mbZ77"
      },
      "outputs": [],
      "source": [
        "         # (N, img_channel, 224, 224)\n",
        "vgg16 = [64, 64, 'M',\n",
        "         # (N. 64, 112, 112)\n",
        "        128, 128, 'M',\n",
        "         # (N, 128, 56, 56)\n",
        "        256, 256, 256, 'M',\n",
        "         # (N, 256, 28, 28)\n",
        "        512, 512, 512, 'M',\n",
        "         # (N, 512, 14, 14)\n",
        "        512, 512, 512, 'M']\n",
        "         # (N, 512, 7, 7)\n",
        "         # after the Linear layer, the tensor will be map into\n",
        "         # (N, num_class)"
      ]
    },
    {
      "cell_type": "code",
      "execution_count": null,
      "metadata": {
        "id": "kg7AZipDbZ77"
      },
      "outputs": [],
      "source": [
        "class Vgg(nn.Module):\n",
        "    def __init__(self, layer_arch, img_channel, num_class) -> None:\n",
        "        super(Vgg, self).__init__()\n",
        "        self.arch = layer_arch\n",
        "        self.img_channel = img_channel\n",
        "        self.num_class = num_class\n",
        "\n",
        "        # create conv layers: feature\n",
        "        self.feature = self._creat_conv()\n",
        "        # create linear layers: classifier\n",
        "        self.classifier = nn.Sequential(\n",
        "            nn.Linear(512*7*7, 4096),\n",
        "            nn.ReLU(),\n",
        "            nn.Linear(4096, 4096),\n",
        "            nn.ReLU(),\n",
        "            nn.Linear(4096, num_class)\n",
        "        )\n",
        "\n",
        "        \n",
        "    def _conv_block(self, inchannel, outchannel, kernel_size, stride, padding):\n",
        "        # classic conv, bn, relu\n",
        "        return nn.Sequential(\n",
        "            nn.Conv2d(inchannel, outchannel, kernel_size, stride, padding),\n",
        "            nn.BatchNorm2d(outchannel),\n",
        "            nn.ReLU()\n",
        "        )\n",
        "\n",
        "    def _creat_conv(self):\n",
        "        conv_net = []\n",
        "        inchannel = self.img_channel\n",
        "        for each in self.arch:\n",
        "            if type(each) == int:\n",
        "                outchannel = each\n",
        "                conv_net.append(self._conv_block(inchannel, outchannel, (3,3), 1, 1))\n",
        "                inchannel = outchannel\n",
        "            if type(each) == str:\n",
        "                conv_net.append(nn.MaxPool2d(kernel_size=(2,2), stride=2))\n",
        "        return nn.Sequential(*conv_net)\n",
        "\n",
        "    def forward(self, x):\n",
        "        x = self.feature(x)\n",
        "        x = x.reshape((x.shape[0],-1))\n",
        "        return self.classifier(x)"
      ]
    }
  ],
  "metadata": {
    "accelerator": "GPU",
    "colab": {
      "name": "vgg.ipynb",
      "provenance": []
    },
    "kernelspec": {
      "display_name": "Python 3.9.12 ('dl')",
      "language": "python",
      "name": "python3"
    },
    "language_info": {
      "codemirror_mode": {
        "name": "ipython",
        "version": 3
      },
      "file_extension": ".py",
      "mimetype": "text/x-python",
      "name": "python",
      "nbconvert_exporter": "python",
      "pygments_lexer": "ipython3",
      "version": "3.9.12"
    },
    "orig_nbformat": 4,
    "vscode": {
      "interpreter": {
        "hash": "b29e1734725db1faeb4b8d5e1c0f2aeef17f9af1ed7138203a137e006bcde4ae"
      }
    }
  },
  "nbformat": 4,
  "nbformat_minor": 0
}
